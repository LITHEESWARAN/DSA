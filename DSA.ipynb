{
 "cells": [
  {
   "cell_type": "code",
   "execution_count": 1,
   "id": "b6bd6c23",
   "metadata": {},
   "outputs": [
    {
     "name": "stdout",
     "output_type": "stream",
     "text": [
      "Original list:\n",
      "1 -> 2 -> 3 -> 4 -> 5\n",
      "Reversed list:\n",
      "5 -> 4 -> 3 -> 2 -> 1\n"
     ]
    }
   ],
   "source": [
    "#Problem 1: Reverse a singly linked list.\n",
    "class Node:\n",
    "    def __init__(self, value=0, next=None):\n",
    "        self.value = value\n",
    "        self.next = next\n",
    "\n",
    "def print_list(head):\n",
    "    current = head\n",
    "    while current:\n",
    "        print(current.value, end=\" -> \" if current.next else \"\\n\")\n",
    "        current = current.next\n",
    "\n",
    "def reverse_linked_list(head):\n",
    "    prev = None\n",
    "    current = head\n",
    "    while current:\n",
    "        next_node = current.next  # Store next node\n",
    "        current.next = prev       # Reverse the link\n",
    "        prev = current            # Move prev and current one step forward\n",
    "        current = next_node\n",
    "    return prev  # New head of the reversed list\n",
    "\n",
    "# Helper function to create a linked list from a list of values\n",
    "def create_linked_list(values):\n",
    "    if not values:\n",
    "        return None\n",
    "    head = Node(values[0])\n",
    "    current = head\n",
    "    for value in values[1:]:\n",
    "        current.next = Node(value)\n",
    "        current = current.next\n",
    "    return head\n",
    "\n",
    "# Example usage\n",
    "values = [1, 2, 3, 4, 5]\n",
    "head = create_linked_list(values)\n",
    "print(\"Original list:\")\n",
    "print_list(head)\n",
    "\n",
    "head = reverse_linked_list(head)\n",
    "print(\"Reversed list:\")\n",
    "print_list(head)\n"
   ]
  },
  {
   "cell_type": "code",
   "execution_count": 2,
   "id": "96a2ab44",
   "metadata": {},
   "outputs": [
    {
     "name": "stdout",
     "output_type": "stream",
     "text": [
      "List 1:\n",
      "1 -> 3 -> 5\n",
      "List 2:\n",
      "2 -> 4 -> 6\n",
      "Merged List:\n",
      "1 -> 2 -> 3 -> 4 -> 5 -> 6\n"
     ]
    }
   ],
   "source": [
    "#Problem 2: Merge two sorted linked lists into one sorted linked list.\n",
    "class Node:\n",
    "    def __init__(self, value=0, next=None):\n",
    "        self.value = value\n",
    "        self.next = next\n",
    "\n",
    "def print_list(head):\n",
    "    current = head\n",
    "    while current:\n",
    "        print(current.value, end=\" -> \" if current.next else \"\\n\")\n",
    "        current = current.next\n",
    "\n",
    "def merge_sorted_lists(l1, l2):\n",
    "    dummy = Node()  # Create a dummy node to simplify edge cases\n",
    "    tail = dummy\n",
    "    \n",
    "    while l1 and l2:\n",
    "        if l1.value < l2.value:\n",
    "            tail.next = l1\n",
    "            l1 = l1.next\n",
    "        else:\n",
    "            tail.next = l2\n",
    "            l2 = l2.next\n",
    "        tail = tail.next\n",
    "    \n",
    "    # Append remaining nodes of l1 or l2\n",
    "    if l1:\n",
    "        tail.next = l1\n",
    "    if l2:\n",
    "        tail.next = l2\n",
    "\n",
    "    return dummy.next  # Return the node after the dummy node\n",
    "\n",
    "# Helper function to create a linked list from a list of values\n",
    "def create_linked_list(values):\n",
    "    if not values:\n",
    "        return None\n",
    "    head = Node(values[0])\n",
    "    current = head\n",
    "    for value in values[1:]:\n",
    "        current.next = Node(value)\n",
    "        current = current.next\n",
    "    return head\n",
    "\n",
    "# Example usage\n",
    "values1 = [1, 3, 5]\n",
    "values2 = [2, 4, 6]\n",
    "\n",
    "l1 = create_linked_list(values1)\n",
    "l2 = create_linked_list(values2)\n",
    "\n",
    "print(\"List 1:\")\n",
    "print_list(l1)\n",
    "\n",
    "print(\"List 2:\")\n",
    "print_list(l2)\n",
    "\n",
    "merged_head = merge_sorted_lists(l1, l2)\n",
    "print(\"Merged List:\")\n",
    "print_list(merged_head)\n"
   ]
  },
  {
   "cell_type": "code",
   "execution_count": 3,
   "id": "1d9c6758",
   "metadata": {},
   "outputs": [
    {
     "name": "stdout",
     "output_type": "stream",
     "text": [
      "Original List:\n",
      "1 -> 2 -> 3 -> 4 -> 5\n",
      "List after removing the nth node from the end:\n",
      "1 -> 2 -> 3 -> 5\n"
     ]
    }
   ],
   "source": [
    "#Problem 3: Remove the nth node from the end of a linked list.\n",
    "class Node:\n",
    "    def __init__(self, value=0, next=None):\n",
    "        self.value = value\n",
    "        self.next = next\n",
    "\n",
    "def print_list(head):\n",
    "    current = head\n",
    "    while current:\n",
    "        print(current.value, end=\" -> \" if current.next else \"\\n\")\n",
    "        current = current.next\n",
    "\n",
    "def remove_nth_from_end(head, n):\n",
    "    dummy = Node(0, head)\n",
    "    first = second = dummy\n",
    "    \n",
    "    # Move first pointer n+1 steps ahead\n",
    "    for _ in range(n + 1):\n",
    "        first = first.next\n",
    "    \n",
    "    # Move first to the end, maintaining the gap\n",
    "    while first:\n",
    "        first = first.next\n",
    "        second = second.next\n",
    "    \n",
    "    # Remove the nth node from the end\n",
    "    second.next = second.next.next\n",
    "    \n",
    "    return dummy.next  # Return the head of the modified list\n",
    "\n",
    "# Helper function to create a linked list from a list of values\n",
    "def create_linked_list(values):\n",
    "    if not values:\n",
    "        return None\n",
    "    head = Node(values[0])\n",
    "    current = head\n",
    "    for value in values[1:]:\n",
    "        current.next = Node(value)\n",
    "        current = current.next\n",
    "    return head\n",
    "\n",
    "# Example usage\n",
    "values = [1, 2, 3, 4, 5]\n",
    "n = 2\n",
    "\n",
    "head = create_linked_list(values)\n",
    "print(\"Original List:\")\n",
    "print_list(head)\n",
    "\n",
    "head = remove_nth_from_end(head, n)\n",
    "print(\"List after removing the nth node from the end:\")\n",
    "print_list(head)\n"
   ]
  },
  {
   "cell_type": "code",
   "execution_count": 4,
   "id": "7aef1b14",
   "metadata": {},
   "outputs": [
    {
     "name": "stdout",
     "output_type": "stream",
     "text": [
      "Intersection node value: 3\n"
     ]
    }
   ],
   "source": [
    "#Problem 4: Find the intersection point of two linked lists.\n",
    "class Node:\n",
    "    def __init__(self, value=0, next=None):\n",
    "        self.value = value\n",
    "        self.next = next\n",
    "\n",
    "def print_list(head):\n",
    "    current = head\n",
    "    while current:\n",
    "        print(current.value, end=\" -> \" if current.next else \"\\n\")\n",
    "        current = current.next\n",
    "\n",
    "def get_length(head):\n",
    "    length = 0\n",
    "    while head:\n",
    "        length += 1\n",
    "        head = head.next\n",
    "    return length\n",
    "\n",
    "def find_intersection(head1, head2):\n",
    "    len1 = get_length(head1)\n",
    "    len2 = get_length(head2)\n",
    "    \n",
    "    # Align the start of both lists\n",
    "    while len1 > len2:\n",
    "        head1 = head1.next\n",
    "        len1 -= 1\n",
    "    \n",
    "    while len2 > len1:\n",
    "        head2 = head2.next\n",
    "        len2 -= 1\n",
    "    \n",
    "    # Traverse both lists to find the intersection\n",
    "    while head1 and head2:\n",
    "        if head1 == head2:\n",
    "            return head1\n",
    "        head1 = head1.next\n",
    "        head2 = head2.next\n",
    "    \n",
    "    return None\n",
    "\n",
    "# Helper function to create a linked list from a list of values\n",
    "def create_linked_list(values):\n",
    "    if not values:\n",
    "        return None\n",
    "    head = Node(values[0])\n",
    "    current = head\n",
    "    for value in values[1:]:\n",
    "        current.next = Node(value)\n",
    "        current = current.next\n",
    "    return head\n",
    "\n",
    "# Example usage\n",
    "# Create the intersection\n",
    "common = create_linked_list([3, 4])\n",
    "list1 = create_linked_list([1, 2])\n",
    "list1_end = list1\n",
    "while list1_end.next:\n",
    "    list1_end = list1_end.next\n",
    "list1_end.next = common\n",
    "\n",
    "list2 = create_linked_list([9, 8])\n",
    "list2_end = list2\n",
    "while list2_end.next:\n",
    "    list2_end = list2_end.next\n",
    "list2_end.next = common\n",
    "\n",
    "# Find intersection\n",
    "intersection_node = find_intersection(list1, list2)\n",
    "if intersection_node:\n",
    "    print(f\"Intersection node value: {intersection_node.value}\")\n",
    "else:\n",
    "    print(\"No intersection found.\")\n"
   ]
  },
  {
   "cell_type": "code",
   "execution_count": 5,
   "id": "6c1869ad",
   "metadata": {},
   "outputs": [
    {
     "name": "stdout",
     "output_type": "stream",
     "text": [
      "Original List:\n",
      "1 -> 1 -> 2 -> 3 -> 3\n",
      "List after removing duplicates:\n",
      "1 -> 2 -> 3\n"
     ]
    }
   ],
   "source": [
    "#Problem 5: Remove duplicates from a sorted linked list.\n",
    "class Node:\n",
    "    def __init__(self, value=0, next=None):\n",
    "        self.value = value\n",
    "        self.next = next\n",
    "\n",
    "def print_list(head):\n",
    "    current = head\n",
    "    while current:\n",
    "        print(current.value, end=\" -> \" if current.next else \"\\n\")\n",
    "        current = current.next\n",
    "\n",
    "def remove_duplicates(head):\n",
    "    current = head\n",
    "    while current and current.next:\n",
    "        if current.value == current.next.value:\n",
    "            # Skip the next node\n",
    "            current.next = current.next.next\n",
    "        else:\n",
    "            # Move to the next node\n",
    "            current = current.next\n",
    "    return head\n",
    "\n",
    "# Helper function to create a linked list from a list of values\n",
    "def create_linked_list(values):\n",
    "    if not values:\n",
    "        return None\n",
    "    head = Node(values[0])\n",
    "    current = head\n",
    "    for value in values[1:]:\n",
    "        current.next = Node(value)\n",
    "        current = current.next\n",
    "    return head\n",
    "\n",
    "# Example usage\n",
    "values = [1, 1, 2, 3, 3]\n",
    "head = create_linked_list(values)\n",
    "print(\"Original List:\")\n",
    "print_list(head)\n",
    "\n",
    "head = remove_duplicates(head)\n",
    "print(\"List after removing duplicates:\")\n",
    "print_list(head)\n"
   ]
  },
  {
   "cell_type": "code",
   "execution_count": 6,
   "id": "cd6f8309",
   "metadata": {},
   "outputs": [
    {
     "name": "stdout",
     "output_type": "stream",
     "text": [
      "List 1:\n",
      "2 -> 4 -> 3\n",
      "List 2:\n",
      "5 -> 6 -> 4\n",
      "Sum:\n",
      "7 -> 0 -> 8\n"
     ]
    }
   ],
   "source": [
    "#Problem 6: Add two numbers represented by linked lists (where each node contains a single digit).\n",
    "class Node:\n",
    "    def __init__(self, value=0, next=None):\n",
    "        self.value = value\n",
    "        self.next = next\n",
    "\n",
    "def print_list(head):\n",
    "    current = head\n",
    "    while current:\n",
    "        print(current.value, end=\" -> \" if current.next else \"\\n\")\n",
    "        current = current.next\n",
    "\n",
    "def add_two_numbers(l1, l2):\n",
    "    dummy = Node(0)  # Dummy node to simplify edge cases\n",
    "    current = dummy\n",
    "    carry = 0\n",
    "    \n",
    "    while l1 or l2 or carry:\n",
    "        val1 = l1.value if l1 else 0\n",
    "        val2 = l2.value if l2 else 0\n",
    "        \n",
    "        total = val1 + val2 + carry\n",
    "        carry = total // 10\n",
    "        new_digit = total % 10\n",
    "        \n",
    "        current.next = Node(new_digit)\n",
    "        current = current.next\n",
    "        \n",
    "        if l1:\n",
    "            l1 = l1.next\n",
    "        if l2:\n",
    "            l2 = l2.next\n",
    "    \n",
    "    return dummy.next\n",
    "\n",
    "# Helper function to create a linked list from a list of values\n",
    "def create_linked_list(values):\n",
    "    if not values:\n",
    "        return None\n",
    "    head = Node(values[0])\n",
    "    current = head\n",
    "    for value in values[1:]:\n",
    "        current.next = Node(value)\n",
    "        current = current.next\n",
    "    return head\n",
    "\n",
    "# Example usage\n",
    "list1_values = [2, 4, 3]  # Represents 342\n",
    "list2_values = [5, 6, 4]  # Represents 465\n",
    "\n",
    "l1 = create_linked_list(list1_values)\n",
    "l2 = create_linked_list(list2_values)\n",
    "\n",
    "print(\"List 1:\")\n",
    "print_list(l1)\n",
    "\n",
    "print(\"List 2:\")\n",
    "print_list(l2)\n",
    "\n",
    "result = add_two_numbers(l1, l2)\n",
    "print(\"Sum:\")\n",
    "print_list(result)\n"
   ]
  },
  {
   "cell_type": "code",
   "execution_count": 7,
   "id": "51e2419c",
   "metadata": {},
   "outputs": [
    {
     "name": "stdout",
     "output_type": "stream",
     "text": [
      "Original List:\n",
      "1 -> 2 -> 3 -> 4\n",
      "List after swapping nodes in pairs:\n",
      "2 -> 1 -> 4 -> 3\n"
     ]
    }
   ],
   "source": [
    "#Problem 7: Swap nodes in pairs in a linked list.\n",
    "class Node:\n",
    "    def __init__(self, value=0, next=None):\n",
    "        self.value = value\n",
    "        self.next = next\n",
    "\n",
    "def print_list(head):\n",
    "    current = head\n",
    "    while current:\n",
    "        print(current.value, end=\" -> \" if current.next else \"\\n\")\n",
    "        current = current.next\n",
    "\n",
    "def swap_pairs(head):\n",
    "    dummy = Node(0)\n",
    "    dummy.next = head\n",
    "    current = dummy\n",
    "    \n",
    "    while current.next and current.next.next:\n",
    "        first = current.next\n",
    "        second = current.next.next\n",
    "        \n",
    "        # Swapping the pair\n",
    "        first.next = second.next\n",
    "        second.next = first\n",
    "        current.next = second\n",
    "        \n",
    "        # Move to the next pair\n",
    "        current = first\n",
    "    \n",
    "    return dummy.next\n",
    "\n",
    "# Helper function to create a linked list from a list of values\n",
    "def create_linked_list(values):\n",
    "    if not values:\n",
    "        return None\n",
    "    head = Node(values[0])\n",
    "    current = head\n",
    "    for value in values[1:]:\n",
    "        current.next = Node(value)\n",
    "        current = current.next\n",
    "    return head\n",
    "\n",
    "# Example usage\n",
    "values = [1, 2, 3, 4]\n",
    "head = create_linked_list(values)\n",
    "print(\"Original List:\")\n",
    "print_list(head)\n",
    "\n",
    "head = swap_pairs(head)\n",
    "print(\"List after swapping nodes in pairs:\")\n",
    "print_list(head)\n"
   ]
  },
  {
   "cell_type": "code",
   "execution_count": 8,
   "id": "2a8a5944",
   "metadata": {},
   "outputs": [
    {
     "name": "stdout",
     "output_type": "stream",
     "text": [
      "Original List:\n",
      "1 -> 2 -> 3 -> 4 -> 5\n",
      "List after reversing in groups of k:\n",
      "3 -> 2 -> 1 -> 4 -> 5\n"
     ]
    }
   ],
   "source": [
    "#Problem 8: Reverse nodes in a linked list in groups of k.\n",
    "class Node:\n",
    "    def __init__(self, value=0, next=None):\n",
    "        self.value = value\n",
    "        self.next = next\n",
    "\n",
    "def print_list(head):\n",
    "    current = head\n",
    "    while current:\n",
    "        print(current.value, end=\" -> \" if current.next else \"\\n\")\n",
    "        current = current.next\n",
    "\n",
    "def reverse_group(head, k):\n",
    "    prev = None\n",
    "    current = head\n",
    "    count = 0\n",
    "    \n",
    "    # Check if there are at least k nodes left\n",
    "    temp = head\n",
    "    while count < k and temp:\n",
    "        temp = temp.next\n",
    "        count += 1\n",
    "    \n",
    "    if count < k:\n",
    "        return head\n",
    "    \n",
    "    # Reverse k nodes\n",
    "    prev = None\n",
    "    current = head\n",
    "    count = 0\n",
    "    while count < k and current:\n",
    "        next_node = current.next\n",
    "        current.next = prev\n",
    "        prev = current\n",
    "        current = next_node\n",
    "        count += 1\n",
    "    \n",
    "    # Recursively reverse the rest of the list and link to the previous part\n",
    "    if next_node:\n",
    "        head.next = reverse_group(next_node, k)\n",
    "    \n",
    "    return prev\n",
    "\n",
    "# Helper function to create a linked list from a list of values\n",
    "def create_linked_list(values):\n",
    "    if not values:\n",
    "        return None\n",
    "    head = Node(values[0])\n",
    "    current = head\n",
    "    for value in values[1:]:\n",
    "        current.next = Node(value)\n",
    "        current = current.next\n",
    "    return head\n",
    "\n",
    "# Example usage\n",
    "values = [1, 2, 3, 4, 5]\n",
    "k = 3\n",
    "head = create_linked_list(values)\n",
    "print(\"Original List:\")\n",
    "print_list(head)\n",
    "\n",
    "head = reverse_group(head, k)\n",
    "print(\"List after reversing in groups of k:\")\n",
    "print_list(head)\n"
   ]
  },
  {
   "cell_type": "code",
   "execution_count": 9,
   "id": "43157e14",
   "metadata": {},
   "outputs": [
    {
     "name": "stdout",
     "output_type": "stream",
     "text": [
      "Original List:\n",
      "1 -> 2 -> 2 -> 1\n",
      "Is palindrome: True\n"
     ]
    }
   ],
   "source": [
    "#Problem 9: Determine if a linked list is a palindrome.\n",
    "class Node:\n",
    "    def __init__(self, value=0, next=None):\n",
    "        self.value = value\n",
    "        self.next = next\n",
    "\n",
    "def print_list(head):\n",
    "    current = head\n",
    "    while current:\n",
    "        print(current.value, end=\" -> \" if current.next else \"\\n\")\n",
    "        current = current.next\n",
    "\n",
    "def is_palindrome_stack(head):\n",
    "    stack = []\n",
    "    current = head\n",
    "    \n",
    "    # Push all values onto stack\n",
    "    while current:\n",
    "        stack.append(current.value)\n",
    "        current = current.next\n",
    "    \n",
    "    # Traverse the list again and compare with stack\n",
    "    current = head\n",
    "    while current:\n",
    "        if current.value != stack.pop():\n",
    "            return False\n",
    "        current = current.next\n",
    "    \n",
    "    return True\n",
    "\n",
    "# Example usage\n",
    "values = [1, 2, 2, 1]\n",
    "head = create_linked_list(values)\n",
    "print(\"Original List:\")\n",
    "print_list(head)\n",
    "\n",
    "result = is_palindrome_stack(head)\n",
    "print(\"Is palindrome:\", result)\n"
   ]
  },
  {
   "cell_type": "code",
   "execution_count": 10,
   "id": "466b601b",
   "metadata": {},
   "outputs": [
    {
     "name": "stdout",
     "output_type": "stream",
     "text": [
      "Original List:\n",
      "1 -> 2 -> 3 -> 4 -> 5\n",
      "List after rotating:\n",
      "4 -> 5 -> 1 -> 2 -> 3\n"
     ]
    }
   ],
   "source": [
    "# Problem 10: Rotate a linked list to the right by k places.\n",
    "class Node:\n",
    "    def __init__(self, value=0, next=None):\n",
    "        self.value = value\n",
    "        self.next = next\n",
    "\n",
    "def print_list(head):\n",
    "    current = head\n",
    "    while current:\n",
    "        print(current.value, end=\" -> \" if current.next else \"\\n\")\n",
    "        current = current.next\n",
    "\n",
    "def rotate_list(head, k):\n",
    "    if not head or k == 0:\n",
    "        return head\n",
    "    \n",
    "    # Find the length of the list\n",
    "    length = 1\n",
    "    old_tail = head\n",
    "    while old_tail.next:\n",
    "        old_tail = old_tail.next\n",
    "        length += 1\n",
    "    \n",
    "    # Normalize k\n",
    "    k = k % length\n",
    "    if k == 0:\n",
    "        return head\n",
    "    \n",
    "    # Find the new tail and new head\n",
    "    new_tail = head\n",
    "    for _ in range(length - k - 1):\n",
    "        new_tail = new_tail.next\n",
    "    \n",
    "    new_head = new_tail.next\n",
    "    new_tail.next = None\n",
    "    old_tail.next = head\n",
    "    \n",
    "    return new_head\n",
    "\n",
    "# Example usage\n",
    "values = [1, 2, 3, 4, 5]\n",
    "k = 2\n",
    "head = create_linked_list(values)\n",
    "print(\"Original List:\")\n",
    "print_list(head)\n",
    "\n",
    "head = rotate_list(head, k)\n",
    "print(\"List after rotating:\")\n",
    "print_list(head)\n"
   ]
  },
  {
   "cell_type": "code",
   "execution_count": 13,
   "id": "cef86e50",
   "metadata": {},
   "outputs": [],
   "source": [
    "# Problem 11: Flatten a multilevel doubly linked list.\n",
    "class Node:\n",
    "    def __init__(self, value=0, next=None, prev=None, child=None):\n",
    "        self.value = value\n",
    "        self.next = next\n",
    "        self.prev = prev\n",
    "        self.child = child\n",
    "\n",
    "def flatten(head):\n",
    "    def flatten_dfs(node):\n",
    "        current = node\n",
    "        last = None\n",
    "        \n",
    "        while current:\n",
    "            if current.child:\n",
    "                next_node = current.next\n",
    "                child_last = flatten_dfs(current.child)\n",
    "                \n",
    "                current.next = current.child\n",
    "                current.child.prev = current\n",
    "                current.child = None\n",
    "                \n",
    "                if child_last:\n",
    "                    child_last.next = next_node\n",
    "                if next_node:\n",
    "                    next_node.prev = child_last\n",
    "                \n",
    "                last = child_last if child_last else next_node\n",
    "            else:\n",
    "                last = current\n",
    "            \n",
    "            current = current.next\n",
    "        \n",
    "        return last\n",
    "    \n",
    "    if not head:\n",
    "        return None\n",
    "    \n",
    "    flatten_dfs(head)\n",
    "    return head\n",
    "\n",
    "\n"
   ]
  },
  {
   "cell_type": "code",
   "execution_count": 14,
   "id": "4e45c9e2",
   "metadata": {},
   "outputs": [
    {
     "name": "stdout",
     "output_type": "stream",
     "text": [
      "Original List:\n",
      "1 -> 2 -> 3 -> 4 -> 5\n",
      "List after rearranging:\n",
      "1 -> 3 -> 5 -> 2 -> 4\n"
     ]
    }
   ],
   "source": [
    "# Problem 12: Rearrange a linked list such that all even positioned nodes are placed at the end.\n",
    "def rearrange_list(head):\n",
    "    if not head:\n",
    "        return None\n",
    "    \n",
    "    odd_head = odd_tail = None\n",
    "    even_head = even_tail = None\n",
    "    index = 1\n",
    "    \n",
    "    current = head\n",
    "    while current:\n",
    "        if index % 2 != 0:\n",
    "            if odd_head is None:\n",
    "                odd_head = odd_tail = current\n",
    "            else:\n",
    "                odd_tail.next = current\n",
    "                odd_tail = odd_tail.next\n",
    "        else:\n",
    "            if even_head is None:\n",
    "                even_head = even_tail = current\n",
    "            else:\n",
    "                even_tail.next = current\n",
    "                even_tail = even_tail.next\n",
    "        \n",
    "        current = current.next\n",
    "        index += 1\n",
    "    \n",
    "    if odd_tail:\n",
    "        odd_tail.next = even_head\n",
    "    if even_tail:\n",
    "        even_tail.next = None\n",
    "    \n",
    "    return odd_head\n",
    "\n",
    "# Example usage\n",
    "values = [1, 2, 3, 4, 5]\n",
    "head = create_linked_list(values)\n",
    "print(\"Original List:\")\n",
    "print_list(head)\n",
    "\n",
    "head = rearrange_list(head)\n",
    "print(\"List after rearranging:\")\n",
    "print_list(head)\n"
   ]
  },
  {
   "cell_type": "code",
   "execution_count": 15,
   "id": "d657c7cc",
   "metadata": {},
   "outputs": [
    {
     "name": "stdout",
     "output_type": "stream",
     "text": [
      "Original List:\n",
      "1 -> 2 -> 3\n",
      "List after adding one:\n",
      "1 -> 2 -> 4\n"
     ]
    }
   ],
   "source": [
    "# Problem 13: Given a non-negative number represented as a linked list, add one to it.\n",
    "def add_one(head):\n",
    "    def reverse_list(head):\n",
    "        prev = None\n",
    "        while head:\n",
    "            next_node = head.next\n",
    "            head.next = prev\n",
    "            prev = head\n",
    "            head = next_node\n",
    "        return prev\n",
    "\n",
    "    def add_one_to_list(head):\n",
    "        carry = 1\n",
    "        dummy = Node(0)\n",
    "        dummy.next = head\n",
    "        prev = dummy\n",
    "        \n",
    "        while head:\n",
    "            sum_val = head.value + carry\n",
    "            carry = sum_val // 10\n",
    "            head.value = sum_val % 10\n",
    "            prev = head\n",
    "            head = head.next\n",
    "        \n",
    "        if carry:\n",
    "            prev.next = Node(carry)\n",
    "    \n",
    "    head = reverse_list(head)\n",
    "    add_one_to_list(head)\n",
    "    return reverse_list(head)\n",
    "\n",
    "# Example usage\n",
    "values = [1, 2, 3]\n",
    "head = create_linked_list(values)\n",
    "print(\"Original List:\")\n",
    "print_list(head)\n",
    "\n",
    "head = add_one(head)\n",
    "print(\"List after adding one:\")\n",
    "print_list(head)\n"
   ]
  },
  {
   "cell_type": "code",
   "execution_count": 16,
   "id": "cc15b0e3",
   "metadata": {},
   "outputs": [
    {
     "name": "stdout",
     "output_type": "stream",
     "text": [
      "Index: 2\n"
     ]
    }
   ],
   "source": [
    "# Problem 14: Given a sorted array and a target value, return the index if the target is found. If not, return the index where it would be inserted.\n",
    "def search_insert_position(nums, target):\n",
    "    left, right = 0, len(nums) - 1\n",
    "    \n",
    "    while left <= right:\n",
    "        mid = (left + right) // 2\n",
    "        if nums[mid] == target:\n",
    "            return mid\n",
    "        elif nums[mid] < target:\n",
    "            left = mid + 1\n",
    "        else:\n",
    "            right = mid - 1\n",
    "    \n",
    "    return left\n",
    "\n",
    "# Example usage\n",
    "nums = [1, 3, 5, 6]\n",
    "target = 5\n",
    "print(\"Index:\", search_insert_position(nums, target))\n"
   ]
  },
  {
   "cell_type": "code",
   "execution_count": 17,
   "id": "813b98cb",
   "metadata": {},
   "outputs": [
    {
     "name": "stdout",
     "output_type": "stream",
     "text": [
      "Minimum Element: 0\n"
     ]
    }
   ],
   "source": [
    "# Problem 15: Find the minimum element in a rotated sorted array.\n",
    "def find_minimum(nums):\n",
    "    left, right = 0, len(nums) - 1\n",
    "    \n",
    "    while left < right:\n",
    "        mid = (left + right) // 2\n",
    "        if nums[mid] > nums[right]:\n",
    "            left = mid + 1\n",
    "        else:\n",
    "            right = mid\n",
    "    \n",
    "    return nums[left]\n",
    "\n",
    "# Example usage\n",
    "nums = [4, 5, 6, 7, 0, 1, 2]\n",
    "print(\"Minimum Element:\", find_minimum(nums))\n"
   ]
  },
  {
   "cell_type": "code",
   "execution_count": 18,
   "id": "b3f4b8f6",
   "metadata": {},
   "outputs": [
    {
     "name": "stdout",
     "output_type": "stream",
     "text": [
      "Index: 4\n"
     ]
    }
   ],
   "source": [
    "# Problem 16: Search for a target value in a rotated sorted array.\n",
    "def search_rotated_sorted_array(nums, target):\n",
    "    left, right = 0, len(nums) - 1\n",
    "    \n",
    "    while left <= right:\n",
    "        mid = (left + right) // 2\n",
    "        if nums[mid] == target:\n",
    "            return mid\n",
    "        if nums[left] <= nums[mid]:\n",
    "            if nums[left] <= target < nums[mid]:\n",
    "                right = mid - 1\n",
    "            else:\n",
    "                left = mid + 1\n",
    "        else:\n",
    "            if nums[mid] < target <= nums[right]:\n",
    "                left = mid + 1\n",
    "            else:\n",
    "                right = mid - 1\n",
    "    \n",
    "    return -1\n",
    "\n",
    "# Example usage\n",
    "nums = [4, 5, 6, 7, 0, 1, 2]\n",
    "target = 0\n",
    "print(\"Index:\", search_rotated_sorted_array(nums, target))\n"
   ]
  },
  {
   "cell_type": "code",
   "execution_count": 19,
   "id": "e33d48e4",
   "metadata": {},
   "outputs": [
    {
     "name": "stdout",
     "output_type": "stream",
     "text": [
      "Peak Element Index: 2\n"
     ]
    }
   ],
   "source": [
    "# Problem 17: Find the peak element in an array. A peak element is greater than its neighbors.\n",
    "def find_peak_element(nums):\n",
    "    left, right = 0, len(nums) - 1\n",
    "    \n",
    "    while left < right:\n",
    "        mid = (left + right) // 2\n",
    "        if nums[mid] > nums[mid + 1]:\n",
    "            right = mid\n",
    "        else:\n",
    "            left = mid + 1\n",
    "    \n",
    "    return left\n",
    "\n",
    "# Example usage\n",
    "nums = [1, 2, 3, 1]\n",
    "print(\"Peak Element Index:\", find_peak_element(nums))\n"
   ]
  },
  {
   "cell_type": "code",
   "execution_count": 20,
   "id": "018617aa",
   "metadata": {},
   "outputs": [
    {
     "name": "stdout",
     "output_type": "stream",
     "text": [
      "Number of negative numbers: 8\n"
     ]
    }
   ],
   "source": [
    "# Problem 18: Given a m x n matrix where each row and column is sorted in ascending order, count the number of negative numbers.\n",
    "def count_negatives(matrix):\n",
    "    m, n = len(matrix), len(matrix[0])\n",
    "    count = 0\n",
    "    row, col = m - 1, 0\n",
    "    \n",
    "    while row >= 0 and col < n:\n",
    "        if matrix[row][col] < 0:\n",
    "            count += (n - col)\n",
    "            row -= 1\n",
    "        else:\n",
    "            col += 1\n",
    "    \n",
    "    return count\n",
    "\n",
    "# Example usage\n",
    "matrix = [[4, 3, 2, -1], [3, 2, 1, -1], [1, 1, -1, -2], [-1, -1, -2, -3]]\n",
    "print(\"Number of negative numbers:\", count_negatives(matrix))\n"
   ]
  },
  {
   "cell_type": "code",
   "execution_count": 21,
   "id": "7c5f71d5",
   "metadata": {},
   "outputs": [
    {
     "name": "stdout",
     "output_type": "stream",
     "text": [
      "Target present: True\n"
     ]
    }
   ],
   "source": [
    "# Problem 19: Given a 2D matrix sorted in ascending order in each row, and the first integer of each row is greater than the last integer of the previous row,\n",
    "# determine if a target value is present in the matrix.\n",
    "def search_matrix(matrix, target):\n",
    "    if not matrix or not matrix[0]:\n",
    "        return False\n",
    "    \n",
    "    rows, cols = len(matrix), len(matrix[0])\n",
    "    row, col = 0, cols - 1\n",
    "    \n",
    "    while row < rows and col >= 0:\n",
    "        if matrix[row][col] == target:\n",
    "            return True\n",
    "        elif matrix[row][col] > target:\n",
    "            col -= 1\n",
    "        else:\n",
    "            row += 1\n",
    "    \n",
    "    return False\n",
    "\n",
    "# Example usage\n",
    "matrix = [[1, 3, 5, 7], [10, 11, 16, 20], [23, 30, 34, 60]]\n",
    "target = 3\n",
    "print(\"Target present:\", search_matrix(matrix, target))\n"
   ]
  },
  {
   "cell_type": "code",
   "execution_count": 22,
   "id": "a5a5a366",
   "metadata": {},
   "outputs": [
    {
     "name": "stdout",
     "output_type": "stream",
     "text": [
      "Median: 2\n"
     ]
    }
   ],
   "source": [
    "# Problem 20: Given two sorted arrays, find the median of the combined sorted array.\n",
    "def find_median_sorted_arrays(nums1, nums2):\n",
    "    nums1.extend(nums2)\n",
    "    nums1.sort()\n",
    "    n = len(nums1)\n",
    "    if n % 2 == 1:\n",
    "        return nums1[n // 2]\n",
    "    else:\n",
    "        return (nums1[n // 2 - 1] + nums1[n // 2]) / 2\n",
    "\n",
    "# Example usage\n",
    "nums1 = [1, 3]\n",
    "nums2 = [2]\n",
    "print(\"Median:\", find_median_sorted_arrays(nums1, nums2))\n"
   ]
  },
  {
   "cell_type": "code",
   "execution_count": 23,
   "id": "964b4399",
   "metadata": {},
   "outputs": [
    {
     "name": "stdout",
     "output_type": "stream",
     "text": [
      "Smallest letter greater than target: c\n"
     ]
    }
   ],
   "source": [
    "# Problem 21: Given a sorted character array and a target letter, find the smallest letter in the array that is greater than the target.\n",
    "def next_greatest_letter(letters, target):\n",
    "    left, right = 0, len(letters) - 1\n",
    "    \n",
    "    while left <= right:\n",
    "        mid = (left + right) // 2\n",
    "        if letters[mid] <= target:\n",
    "            left = mid + 1\n",
    "        else:\n",
    "            right = mid - 1\n",
    "    \n",
    "    return letters[left % len(letters)]\n",
    "\n",
    "# Example usage\n",
    "letters = ['c', 'f', 'j']\n",
    "target = 'a'\n",
    "print(\"Smallest letter greater than target:\", next_greatest_letter(letters, target))\n"
   ]
  },
  {
   "cell_type": "code",
   "execution_count": 24,
   "id": "3af92b4c",
   "metadata": {},
   "outputs": [
    {
     "name": "stdout",
     "output_type": "stream",
     "text": [
      "Sorted colors: [0, 0, 1, 1, 2, 2]\n"
     ]
    }
   ],
   "source": [
    "# Problem 22: Given an array with n objects colored red, white, or blue, sort them in-place so that objects of the same color are adjacent, with the colors in the order red, white, and blue.\n",
    "def sort_colors(nums):\n",
    "    low, mid, high = 0, 0, len(nums) - 1\n",
    "    \n",
    "    while mid <= high:\n",
    "        if nums[mid] == 0:\n",
    "            nums[low], nums[mid] = nums[mid], nums[low]\n",
    "            low += 1\n",
    "            mid += 1\n",
    "        elif nums[mid] == 1:\n",
    "            mid += 1\n",
    "        else:\n",
    "            nums[mid], nums[high] = nums[high], nums[mid]\n",
    "            high -= 1\n",
    "\n",
    "# Example usage\n",
    "nums = [2, 0, 2, 1, 1, 0]\n",
    "sort_colors(nums)\n",
    "print(\"Sorted colors:\", nums)\n"
   ]
  },
  {
   "cell_type": "code",
   "execution_count": 25,
   "id": "3a1d656d",
   "metadata": {},
   "outputs": [
    {
     "name": "stdout",
     "output_type": "stream",
     "text": [
      "Kth largest element: 5\n"
     ]
    }
   ],
   "source": [
    "# Problem 23: Find the kth largest element in an unsorted array.\n",
    "import heapq\n",
    "\n",
    "def find_kth_largest(nums, k):\n",
    "    return heapq.nlargest(k, nums)[-1]\n",
    "\n",
    "# Example usage\n",
    "nums = [3, 2, 1, 5, 6, 4]\n",
    "k = 2\n",
    "print(\"Kth largest element:\", find_kth_largest(nums, k))\n"
   ]
  },
  {
   "cell_type": "code",
   "execution_count": 26,
   "id": "5861eb19",
   "metadata": {},
   "outputs": [
    {
     "name": "stdout",
     "output_type": "stream",
     "text": [
      "Zigzag sorted array: [3, 5, 1, 6, 2, 4]\n"
     ]
    }
   ],
   "source": [
    "# Problem 24: Given an unsorted array, reorder it in-place such that nums[0] <= nums[1] >= nums[2] <= nums[3]...\n",
    "def zigzag_sort(nums):\n",
    "    for i in range(len(nums) - 1):\n",
    "        if i % 2 == 0:\n",
    "            if nums[i] > nums[i + 1]:\n",
    "                nums[i], nums[i + 1] = nums[i + 1], nums[i]\n",
    "        else:\n",
    "            if nums[i] < nums[i + 1]:\n",
    "                nums[i], nums[i + 1] = nums[i + 1], nums[i]\n",
    "\n",
    "# Example usage\n",
    "nums = [3, 5, 2, 1, 6, 4]\n",
    "zigzag_sort(nums)\n",
    "print(\"Zigzag sorted array:\", nums)\n"
   ]
  },
  {
   "cell_type": "code",
   "execution_count": 27,
   "id": "941d5035",
   "metadata": {},
   "outputs": [
    {
     "name": "stdout",
     "output_type": "stream",
     "text": [
      "Sum of array elements: 15\n"
     ]
    }
   ],
   "source": [
    "# Problem 25: Given an array of integers, calculate the sum of all its elements.\n",
    "def array_sum(nums):\n",
    "    return sum(nums)\n",
    "\n",
    "# Example usage\n",
    "nums = [1, 2, 3, 4, 5]\n",
    "print(\"Sum of array elements:\", array_sum(nums))\n"
   ]
  },
  {
   "cell_type": "code",
   "execution_count": 30,
   "id": "ee559eea",
   "metadata": {},
   "outputs": [
    {
     "name": "stdout",
     "output_type": "stream",
     "text": [
      "Maximum element: 9\n"
     ]
    }
   ],
   "source": [
    "# Problem 26: Find the maximum element in an array of integers.\n",
    "def find_maximum(nums):\n",
    "    if not nums:\n",
    "        return None  # Handle the case where the list is empty\n",
    "    max_element = nums[0]\n",
    "    for num in nums:\n",
    "        if num > max_element:\n",
    "            max_element = num\n",
    "    return max_element\n",
    "\n",
    "# Example usage\n",
    "nums = [3, 7, 2, 9, 4, 1]\n",
    "print(\"Maximum element:\", find_maximum(nums))\n"
   ]
  },
  {
   "cell_type": "code",
   "execution_count": 28,
   "id": "45fc3efe",
   "metadata": {},
   "outputs": [
    {
     "name": "stdout",
     "output_type": "stream",
     "text": [
      "Index of target: 2\n"
     ]
    }
   ],
   "source": [
    "# Problem 27: Implement linear search to find the index of a target element in an array.\n",
    "def linear_search(array, target):\n",
    "    for index, value in enumerate(array):\n",
    "        if value == target:\n",
    "            return index\n",
    "    return -1\n",
    "\n",
    "# Example usage\n",
    "array = [5, 3, 8, 2, 7, 4]\n",
    "target = 8\n",
    "print(\"Index of target:\", linear_search(array, target))\n"
   ]
  },
  {
   "cell_type": "code",
   "execution_count": 29,
   "id": "97766edf",
   "metadata": {},
   "outputs": [
    {
     "name": "stdout",
     "output_type": "stream",
     "text": [
      "Factorial of 5 : 120\n"
     ]
    }
   ],
   "source": [
    "# Problem 28: Calculate the factorial of a given number.\n",
    "def factorial(n):\n",
    "    if n == 0:\n",
    "        return 1\n",
    "    return n * factorial(n - 1)\n",
    "\n",
    "# Example usage\n",
    "number = 5\n",
    "print(\"Factorial of\", number, \":\", factorial(number))\n"
   ]
  },
  {
   "cell_type": "code",
   "execution_count": 31,
   "id": "b0afa48e",
   "metadata": {},
   "outputs": [
    {
     "name": "stdout",
     "output_type": "stream",
     "text": [
      "Is 7 prime? True\n"
     ]
    }
   ],
   "source": [
    "# Problem 29: Check if a given number is a prime number.\n",
    "def is_prime(n):\n",
    "    if n <= 1:\n",
    "        return False\n",
    "    if n <= 3:\n",
    "        return True\n",
    "    if n % 2 == 0 or n % 3 == 0:\n",
    "        return False\n",
    "    i = 5\n",
    "    while i * i <= n:\n",
    "        if n % i == 0 or n % (i + 2) == 0:\n",
    "            return False\n",
    "        i += 6\n",
    "    return True\n",
    "\n",
    "# Example usage\n",
    "number = 7\n",
    "print(\"Is\", number, \"prime?\", is_prime(number))\n"
   ]
  },
  {
   "cell_type": "code",
   "execution_count": 32,
   "id": "9cbf3072",
   "metadata": {},
   "outputs": [
    {
     "name": "stdout",
     "output_type": "stream",
     "text": [
      "Fibonacci series up to 8 : [0, 1, 1, 2, 3, 5, 8]\n"
     ]
    }
   ],
   "source": [
    "# Problem 30: Generate the Fibonacci series up to a given number n.\n",
    "def fibonacci_series(n):\n",
    "    series = []\n",
    "    a, b = 0, 1\n",
    "    while a <= n:\n",
    "        series.append(a)\n",
    "        a, b = b, a + b\n",
    "    return series\n",
    "\n",
    "# Example usage\n",
    "n = 8\n",
    "print(\"Fibonacci series up to\", n, \":\", fibonacci_series(n))\n"
   ]
  },
  {
   "cell_type": "code",
   "execution_count": 33,
   "id": "49770777",
   "metadata": {},
   "outputs": [
    {
     "name": "stdout",
     "output_type": "stream",
     "text": [
      "Power of 3 to the exponent 4 : 81\n"
     ]
    }
   ],
   "source": [
    "# Problem 31: Calculate the power of a number using recursion.\n",
    "def power(base, exponent):\n",
    "    if exponent == 0:\n",
    "        return 1\n",
    "    return base * power(base, exponent - 1)\n",
    "\n",
    "# Example usage\n",
    "base = 3\n",
    "exponent = 4\n",
    "print(\"Power of\", base, \"to the exponent\", exponent, \":\", power(base, exponent))\n"
   ]
  },
  {
   "cell_type": "code",
   "execution_count": 34,
   "id": "5fc4718f",
   "metadata": {},
   "outputs": [
    {
     "name": "stdout",
     "output_type": "stream",
     "text": [
      "Reversed string: olleh\n"
     ]
    }
   ],
   "source": [
    "# Problem 32: Reverse a given string.\n",
    "def reverse_string(s):\n",
    "    return s[::-1]\n",
    "\n",
    "# Example usage\n",
    "string = \"hello\"\n",
    "print(\"Reversed string:\", reverse_string(string))\n"
   ]
  },
  {
   "cell_type": "code",
   "execution_count": null,
   "id": "0d45c0a6",
   "metadata": {},
   "outputs": [],
   "source": []
  }
 ],
 "metadata": {
  "kernelspec": {
   "display_name": "Python 3 (ipykernel)",
   "language": "python",
   "name": "python3"
  },
  "language_info": {
   "codemirror_mode": {
    "name": "ipython",
    "version": 3
   },
   "file_extension": ".py",
   "mimetype": "text/x-python",
   "name": "python",
   "nbconvert_exporter": "python",
   "pygments_lexer": "ipython3",
   "version": "3.9.12"
  }
 },
 "nbformat": 4,
 "nbformat_minor": 5
}
